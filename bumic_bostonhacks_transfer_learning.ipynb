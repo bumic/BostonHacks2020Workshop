{
  "nbformat": 4,
  "nbformat_minor": 0,
  "metadata": {
    "colab": {
      "name": "bumic_bostonhacks_transfer_learning.ipynb",
      "provenance": [],
      "collapsed_sections": [
        "cUBaXy0i13ka"
      ]
    },
    "kernelspec": {
      "name": "python3",
      "display_name": "Python 3"
    },
    "accelerator": "GPU"
  },
  "cells": [
    {
      "cell_type": "markdown",
      "metadata": {
        "id": "o5iLH5lfwKA1"
      },
      "source": [
        "# Motivation"
      ]
    },
    {
      "cell_type": "markdown",
      "metadata": {
        "id": "YtUFoirhxDdc"
      },
      "source": [
        "Training a state of the art machine learning model usually takes:\n",
        "- a few days,\n",
        "- thousands of dollars of hardware, and\n",
        "- a massive amount of data.\n",
        "\n",
        "Since most hackathon teams don't have any of those, transfer learning is often used instead. This takes much less time, compute, and data.\n",
        "\n",
        "Transfer learning is explained [here](https://cs231n.github.io/transfer-learning/). Basically, we will use a pretrained model as a feature extractor and train only its last layer to classify new data."
      ]
    },
    {
      "cell_type": "markdown",
      "metadata": {
        "id": "Vl72QDsvwNQT"
      },
      "source": [
        "# Finding Existing Data and Models"
      ]
    },
    {
      "cell_type": "markdown",
      "metadata": {
        "id": "GyVzNWKzxZC0"
      },
      "source": [
        "A great source of datasets: [kaggle.com/datasets](kaggle.com/datasets)\n",
        "\n",
        "A great source of models: [pytorch.org/hub](pytorch.org/hub)\n",
        "\n",
        "For this example, we'll use the [LEGO Minifigures Dataset](https://www.kaggle.com/ihelon/lego-minifigures-classification) and [ResNet](https://pytorch.org/hub/pytorch_vision_resnet/).\n",
        "\n",
        "### Downloading the data\n",
        "\n",
        "If you're using google colab, ownload the dataset and upload it to your google drive, then mount your google drive. It needs to be mounted before this colab notebook can read data there."
      ]
    },
    {
      "cell_type": "code",
      "metadata": {
        "id": "bbb6pLS53sPi",
        "outputId": "1cd65424-545c-4dcb-968a-502020e498d3",
        "colab": {
          "base_uri": "https://localhost:8080/"
        }
      },
      "source": [
        "from google.colab import drive\n",
        "\n",
        "drive.mount('/content/drive/')"
      ],
      "execution_count": null,
      "outputs": [
        {
          "output_type": "stream",
          "text": [
            "Drive already mounted at /content/drive/; to attempt to forcibly remount, call drive.mount(\"/content/drive/\", force_remount=True).\n"
          ],
          "name": "stdout"
        }
      ]
    },
    {
      "cell_type": "markdown",
      "metadata": {
        "id": "pGu_lQZ23zkz"
      },
      "source": [
        "See if we can find the data:\n",
        "\n",
        "(Prepending `!` runs the command in a shell on google colab)"
      ]
    },
    {
      "cell_type": "code",
      "metadata": {
        "id": "1lEWN1YM34oZ",
        "outputId": "b16adf3c-a62c-4ba1-9c22-ea882baae401",
        "colab": {
          "base_uri": "https://localhost:8080/"
        }
      },
      "source": [
        "!ls /content/drive/My\\ Drive/datasets"
      ],
      "execution_count": null,
      "outputs": [
        {
          "output_type": "stream",
          "text": [
            "lego\n"
          ],
          "name": "stdout"
        }
      ]
    },
    {
      "cell_type": "code",
      "metadata": {
        "id": "Qfi18sFa3_BA",
        "outputId": "43b66a4f-6462-4b25-ff9c-8c3899d9d248",
        "colab": {
          "base_uri": "https://localhost:8080/"
        }
      },
      "source": [
        "!ls /content/drive/My\\ Drive/datasets/lego"
      ],
      "execution_count": null,
      "outputs": [
        {
          "output_type": "stream",
          "text": [
            "harry-potter  jurassic-world  marvel\t    star-wars  test.csv\n",
            "index.csv     LICENSE\t      metadata.csv  test\n"
          ],
          "name": "stdout"
        }
      ]
    },
    {
      "cell_type": "markdown",
      "metadata": {
        "id": "u0wbw6yU4aUQ"
      },
      "source": [
        "In this example the dataset is in the folder `My Drive/datasets/lego`. Store the path to the data in `root_dir`:"
      ]
    },
    {
      "cell_type": "code",
      "metadata": {
        "id": "iyRJxX0m4Yfp"
      },
      "source": [
        "root_dir = '/content/drive/My Drive/datasets/lego/'"
      ],
      "execution_count": null,
      "outputs": []
    },
    {
      "cell_type": "markdown",
      "metadata": {
        "id": "8KmBJoUjwSNv"
      },
      "source": [
        "# Examining the Data"
      ]
    },
    {
      "cell_type": "markdown",
      "metadata": {
        "id": "zqsYruTrzSV0"
      },
      "source": [
        "![lego minifigures](https://camo.githubusercontent.com/d3543f3d934ff5480920c22bead00ac2901a77d87986d1afd8475cdc42a766a9/68747470733a2f2f692e696d6775722e636f6d2f346350516c454e2e6a7067)\n",
        "\n",
        "*Image Source: https://github.com/yisaienkov/tinysets*"
      ]
    },
    {
      "cell_type": "markdown",
      "metadata": {
        "id": "iEbUhgDo5rN4"
      },
      "source": [
        "Look at the files."
      ]
    },
    {
      "cell_type": "code",
      "metadata": {
        "id": "4CjUjsKXw2dU",
        "outputId": "79ebed95-fbd7-42b8-b9b7-ee9ed778f2a6",
        "colab": {
          "base_uri": "https://localhost:8080/",
          "height": 206
        }
      },
      "source": [
        "# 'index.csv' is a manifest of the training data\n",
        "\n",
        "import pandas as pd\n",
        "import os\n",
        "\n",
        "data_df = pd.read_csv(os.path.join(root_dir, 'index.csv'))\n",
        "data_df.head()"
      ],
      "execution_count": null,
      "outputs": [
        {
          "output_type": "execute_result",
          "data": {
            "text/html": [
              "<div>\n",
              "<style scoped>\n",
              "    .dataframe tbody tr th:only-of-type {\n",
              "        vertical-align: middle;\n",
              "    }\n",
              "\n",
              "    .dataframe tbody tr th {\n",
              "        vertical-align: top;\n",
              "    }\n",
              "\n",
              "    .dataframe thead th {\n",
              "        text-align: right;\n",
              "    }\n",
              "</style>\n",
              "<table border=\"1\" class=\"dataframe\">\n",
              "  <thead>\n",
              "    <tr style=\"text-align: right;\">\n",
              "      <th></th>\n",
              "      <th>path</th>\n",
              "      <th>class_id</th>\n",
              "    </tr>\n",
              "  </thead>\n",
              "  <tbody>\n",
              "    <tr>\n",
              "      <th>0</th>\n",
              "      <td>marvel/0001/001.jpg</td>\n",
              "      <td>1</td>\n",
              "    </tr>\n",
              "    <tr>\n",
              "      <th>1</th>\n",
              "      <td>marvel/0001/002.jpg</td>\n",
              "      <td>1</td>\n",
              "    </tr>\n",
              "    <tr>\n",
              "      <th>2</th>\n",
              "      <td>marvel/0001/003.jpg</td>\n",
              "      <td>1</td>\n",
              "    </tr>\n",
              "    <tr>\n",
              "      <th>3</th>\n",
              "      <td>marvel/0001/004.jpg</td>\n",
              "      <td>1</td>\n",
              "    </tr>\n",
              "    <tr>\n",
              "      <th>4</th>\n",
              "      <td>marvel/0001/005.jpg</td>\n",
              "      <td>1</td>\n",
              "    </tr>\n",
              "  </tbody>\n",
              "</table>\n",
              "</div>"
            ],
            "text/plain": [
              "                  path  class_id\n",
              "0  marvel/0001/001.jpg         1\n",
              "1  marvel/0001/002.jpg         1\n",
              "2  marvel/0001/003.jpg         1\n",
              "3  marvel/0001/004.jpg         1\n",
              "4  marvel/0001/005.jpg         1"
            ]
          },
          "metadata": {
            "tags": []
          },
          "execution_count": 8
        }
      ]
    },
    {
      "cell_type": "code",
      "metadata": {
        "id": "xBdX_rvI6CoL",
        "outputId": "f23c8609-4c19-4fe0-e2bd-e6a059c22a7b",
        "colab": {
          "base_uri": "https://localhost:8080/",
          "height": 206
        }
      },
      "source": [
        "# 'test.csv' is a manifest of the testing data\n",
        "data_df_test = pd.read_csv(os.path.join(root_dir, 'test.csv'))\n",
        "data_df_test.head()"
      ],
      "execution_count": null,
      "outputs": [
        {
          "output_type": "execute_result",
          "data": {
            "text/html": [
              "<div>\n",
              "<style scoped>\n",
              "    .dataframe tbody tr th:only-of-type {\n",
              "        vertical-align: middle;\n",
              "    }\n",
              "\n",
              "    .dataframe tbody tr th {\n",
              "        vertical-align: top;\n",
              "    }\n",
              "\n",
              "    .dataframe thead th {\n",
              "        text-align: right;\n",
              "    }\n",
              "</style>\n",
              "<table border=\"1\" class=\"dataframe\">\n",
              "  <thead>\n",
              "    <tr style=\"text-align: right;\">\n",
              "      <th></th>\n",
              "      <th>path</th>\n",
              "      <th>class_id</th>\n",
              "    </tr>\n",
              "  </thead>\n",
              "  <tbody>\n",
              "    <tr>\n",
              "      <th>0</th>\n",
              "      <td>test/001.jpg</td>\n",
              "      <td>32</td>\n",
              "    </tr>\n",
              "    <tr>\n",
              "      <th>1</th>\n",
              "      <td>test/002.jpg</td>\n",
              "      <td>32</td>\n",
              "    </tr>\n",
              "    <tr>\n",
              "      <th>2</th>\n",
              "      <td>test/003.jpg</td>\n",
              "      <td>32</td>\n",
              "    </tr>\n",
              "    <tr>\n",
              "      <th>3</th>\n",
              "      <td>test/004.jpg</td>\n",
              "      <td>32</td>\n",
              "    </tr>\n",
              "    <tr>\n",
              "      <th>4</th>\n",
              "      <td>test/005.jpg</td>\n",
              "      <td>1</td>\n",
              "    </tr>\n",
              "  </tbody>\n",
              "</table>\n",
              "</div>"
            ],
            "text/plain": [
              "           path  class_id\n",
              "0  test/001.jpg        32\n",
              "1  test/002.jpg        32\n",
              "2  test/003.jpg        32\n",
              "3  test/004.jpg        32\n",
              "4  test/005.jpg         1"
            ]
          },
          "metadata": {
            "tags": []
          },
          "execution_count": 9
        }
      ]
    },
    {
      "cell_type": "code",
      "metadata": {
        "id": "ZtIridU256JK",
        "outputId": "2f9c06f6-d72a-4bef-e2c0-7dc87ed1453e",
        "colab": {
          "base_uri": "https://localhost:8080/",
          "height": 206
        }
      },
      "source": [
        "# 'metadata.csv' is a mapping of class_ids to figure names\n",
        "figure_names = pd.read_csv(os.path.join(root_dir, 'metadata.csv'))\n",
        "figure_names.head()"
      ],
      "execution_count": null,
      "outputs": [
        {
          "output_type": "execute_result",
          "data": {
            "text/html": [
              "<div>\n",
              "<style scoped>\n",
              "    .dataframe tbody tr th:only-of-type {\n",
              "        vertical-align: middle;\n",
              "    }\n",
              "\n",
              "    .dataframe tbody tr th {\n",
              "        vertical-align: top;\n",
              "    }\n",
              "\n",
              "    .dataframe thead th {\n",
              "        text-align: right;\n",
              "    }\n",
              "</style>\n",
              "<table border=\"1\" class=\"dataframe\">\n",
              "  <thead>\n",
              "    <tr style=\"text-align: right;\">\n",
              "      <th></th>\n",
              "      <th>class_id</th>\n",
              "      <th>lego_ids</th>\n",
              "      <th>lego_names</th>\n",
              "      <th>minifigure_name</th>\n",
              "    </tr>\n",
              "  </thead>\n",
              "  <tbody>\n",
              "    <tr>\n",
              "      <th>0</th>\n",
              "      <td>1</td>\n",
              "      <td>[76115]</td>\n",
              "      <td>['Spider Mech vs. Venom']</td>\n",
              "      <td>SPIDER-MAN</td>\n",
              "    </tr>\n",
              "    <tr>\n",
              "      <th>1</th>\n",
              "      <td>2</td>\n",
              "      <td>[76115]</td>\n",
              "      <td>['Spider Mech vs. Venom']</td>\n",
              "      <td>VENOM</td>\n",
              "    </tr>\n",
              "    <tr>\n",
              "      <th>2</th>\n",
              "      <td>3</td>\n",
              "      <td>[76115]</td>\n",
              "      <td>['Spider Mech vs. Venom']</td>\n",
              "      <td>AUNT MAY</td>\n",
              "    </tr>\n",
              "    <tr>\n",
              "      <th>3</th>\n",
              "      <td>4</td>\n",
              "      <td>[76115]</td>\n",
              "      <td>['Spider Mech vs. Venom']</td>\n",
              "      <td>GHOST SPIDER</td>\n",
              "    </tr>\n",
              "    <tr>\n",
              "      <th>4</th>\n",
              "      <td>5</td>\n",
              "      <td>[75208]</td>\n",
              "      <td>[\"Yoda's Hut\"]</td>\n",
              "      <td>YODA</td>\n",
              "    </tr>\n",
              "  </tbody>\n",
              "</table>\n",
              "</div>"
            ],
            "text/plain": [
              "   class_id lego_ids                 lego_names minifigure_name\n",
              "0         1  [76115]  ['Spider Mech vs. Venom']      SPIDER-MAN\n",
              "1         2  [76115]  ['Spider Mech vs. Venom']           VENOM\n",
              "2         3  [76115]  ['Spider Mech vs. Venom']        AUNT MAY\n",
              "3         4  [76115]  ['Spider Mech vs. Venom']    GHOST SPIDER\n",
              "4         5  [75208]             [\"Yoda's Hut\"]            YODA"
            ]
          },
          "metadata": {
            "tags": []
          },
          "execution_count": 10
        }
      ]
    },
    {
      "cell_type": "markdown",
      "metadata": {
        "id": "1fKtoOnn5i1p"
      },
      "source": [
        "How many different classes are there?"
      ]
    },
    {
      "cell_type": "code",
      "metadata": {
        "id": "YwdSwmtB6dNB",
        "outputId": "7dd3ae96-62e1-4db8-a16d-c8d3b30bf75f",
        "colab": {
          "base_uri": "https://localhost:8080/"
        }
      },
      "source": [
        "print(\"Number of classes: {}\".format(len(figure_names)))"
      ],
      "execution_count": null,
      "outputs": [
        {
          "output_type": "stream",
          "text": [
            "Number of classes: 32\n"
          ],
          "name": "stdout"
        }
      ]
    },
    {
      "cell_type": "markdown",
      "metadata": {
        "id": "bJtaVG7C6sC1"
      },
      "source": [
        "How much training data?"
      ]
    },
    {
      "cell_type": "code",
      "metadata": {
        "id": "jRu0WM-Q7wX8",
        "outputId": "78be1fae-1d43-4553-db2a-ceb5a2cded93",
        "colab": {
          "base_uri": "https://localhost:8080/",
          "height": 296
        }
      },
      "source": [
        "print(\"Total number of training images: {}\".format(len(data_df)))\n",
        "\n",
        "# how many images in each class?\n",
        "\n",
        "import matplotlib.pyplot as plt\n",
        "\n",
        "class_sizes = data_df.class_id.value_counts().value_counts()\n",
        "plt.bar(class_sizes.index, class_sizes.values)\n",
        "plt.xlabel('size of class')\n",
        "plt.ylabel('# classes of this size')\n",
        "plt.show()"
      ],
      "execution_count": null,
      "outputs": [
        {
          "output_type": "stream",
          "text": [
            "Total number of training images: 316\n"
          ],
          "name": "stdout"
        },
        {
          "output_type": "display_data",
          "data": {
            "image/png": "[encoded data removed]",
            "text/plain": [
              "<Figure size 432x288 with 1 Axes>"
            ]
          },
          "metadata": {
            "tags": [],
            "needs_background": "light"
          }
        }
      ]
    },
    {
      "cell_type": "markdown",
      "metadata": {
        "id": "jdrFWaD77EL9"
      },
      "source": [
        "How much testing data?"
      ]
    },
    {
      "cell_type": "code",
      "metadata": {
        "id": "G4lko1I69sSv",
        "outputId": "ff14b6f0-e63a-4e55-f1d3-430075ea7f09",
        "colab": {
          "base_uri": "https://localhost:8080/",
          "height": 296
        }
      },
      "source": [
        "print(\"Total number of test images: {}\".format(len(data_df_test)))\n",
        "\n",
        "# how many images in each class?\n",
        "\n",
        "class_sizes = data_df_test.class_id.value_counts().value_counts()\n",
        "plt.bar(class_sizes.index, class_sizes.values)\n",
        "plt.xlabel('size of class')\n",
        "plt.ylabel('# classes of this size')\n",
        "plt.show()"
      ],
      "execution_count": null,
      "outputs": [
        {
          "output_type": "stream",
          "text": [
            "Total number of test images: 62\n"
          ],
          "name": "stdout"
        },
        {
          "output_type": "display_data",
          "data": {
            "image/png": "[encoded data removed]",
            "text/plain": [
              "<Figure size 432x288 with 1 Axes>"
            ]
          },
          "metadata": {
            "tags": [],
            "needs_background": "light"
          }
        }
      ]
    },
    {
      "cell_type": "markdown",
      "metadata": {
        "id": "bwJMKu-M7HLJ"
      },
      "source": [
        "Look at an example image:"
      ]
    },
    {
      "cell_type": "code",
      "metadata": {
        "id": "hFAmL_68_BUA",
        "outputId": "92b61a78-7460-4f19-aa93-edd12360a433",
        "colab": {
          "base_uri": "https://localhost:8080/",
          "height": 286
        }
      },
      "source": [
        "from PIL import Image\n",
        "\n",
        "sample_img = Image.open(os.path.join(root_dir, data_df.loc[0, 'path']))\n",
        "plt.imshow(sample_img)"
      ],
      "execution_count": null,
      "outputs": [
        {
          "output_type": "execute_result",
          "data": {
            "text/plain": [
              "<matplotlib.image.AxesImage at 0x7f7640a46dd8>"
            ]
          },
          "metadata": {
            "tags": []
          },
          "execution_count": 14
        },
        {
          "output_type": "display_data",
          "data": {
            "image/png": "[encoded data removed]",
            "text/plain": [
              "<Figure size 432x288 with 1 Axes>"
            ]
          },
          "metadata": {
            "tags": [],
            "needs_background": "light"
          }
        }
      ]
    },
    {
      "cell_type": "markdown",
      "metadata": {
        "id": "oMCK5QZP7LAJ"
      },
      "source": [
        "Dimensions of the image?"
      ]
    },
    {
      "cell_type": "code",
      "metadata": {
        "id": "2780Mvyi_UMT",
        "outputId": "aac1b661-ac87-4dfc-8ca4-935eda83d926",
        "colab": {
          "base_uri": "https://localhost:8080/"
        }
      },
      "source": [
        "sample_img.size"
      ],
      "execution_count": null,
      "outputs": [
        {
          "output_type": "execute_result",
          "data": {
            "text/plain": [
              "(512, 512)"
            ]
          },
          "metadata": {
            "tags": []
          },
          "execution_count": 15
        }
      ]
    },
    {
      "cell_type": "markdown",
      "metadata": {
        "id": "Kt_tyo-M_r_e"
      },
      "source": [
        "Create a function to translate `class_id`s to figure names:"
      ]
    },
    {
      "cell_type": "code",
      "metadata": {
        "id": "KE9sxjVF_21z"
      },
      "source": [
        "def get_figure_name(class_id):\n",
        "  return figure_names.loc[figure_names.class_id == class_id, 'minifigure_name'].item()"
      ],
      "execution_count": null,
      "outputs": []
    },
    {
      "cell_type": "code",
      "metadata": {
        "id": "I46RgNfaAnGa",
        "outputId": "6984c4ef-d91d-4392-f8d5-a61a92fb010a",
        "colab": {
          "base_uri": "https://localhost:8080/",
          "height": 36
        }
      },
      "source": [
        "get_figure_name(1)"
      ],
      "execution_count": null,
      "outputs": [
        {
          "output_type": "execute_result",
          "data": {
            "application/vnd.google.colaboratory.intrinsic+json": {
              "type": "string"
            },
            "text/plain": [
              "'SPIDER-MAN'"
            ]
          },
          "metadata": {
            "tags": []
          },
          "execution_count": 17
        }
      ]
    },
    {
      "cell_type": "markdown",
      "metadata": {
        "id": "wHAqYhN3BX7D"
      },
      "source": [
        "Prepare the data to use in training:"
      ]
    },
    {
      "cell_type": "code",
      "metadata": {
        "id": "rpApa1aRBbdY"
      },
      "source": [
        "# make a `Dataset` out of this data\n",
        "# https://pytorch.org/tutorials/beginner/data_loading_tutorial.html\n",
        "\n",
        "from torch.utils.data import Dataset\n",
        "\n",
        "class LegoDataset(Dataset):\n",
        "  def __init__(self, csv_file, root_dir, transform=None):\n",
        "    self.data = pd.read_csv(csv_file)\n",
        "    self.root_dir = root_dir\n",
        "    self.transform = transform\n",
        "\n",
        "  def __len__(self):\n",
        "    return len(self.data)\n",
        "\n",
        "  def __getitem__(self, idx):\n",
        "\n",
        "    img_path = os.path.join(self.root_dir, self.data.iloc[idx, 0])\n",
        "                            \n",
        "    if self.transform:\n",
        "      imgs = self.transform(Image.open(img_path))\n",
        "    else:\n",
        "      imgs = np.array(Image.open(img_path))\n",
        "\n",
        "    class_ids = self.data.iloc[idx, 1] - 1  # labels are not zero indexed\n",
        "\n",
        "    return imgs, class_ids"
      ],
      "execution_count": null,
      "outputs": []
    },
    {
      "cell_type": "markdown",
      "metadata": {
        "id": "0_JPm6xOC6O_"
      },
      "source": [
        "Create datasets and dataloaders for the training and testing data"
      ]
    },
    {
      "cell_type": "code",
      "metadata": {
        "id": "lSLYheYEC5Yo"
      },
      "source": [
        "from torch.utils.data import DataLoader\n",
        "from torchvision import transforms\n",
        "\n",
        "# ResNet requires specifically formatted input data\n",
        "data_transforms = {\n",
        "  'train': transforms.Compose([\n",
        "    transforms.RandomResizedCrop(224),\n",
        "    transforms.RandomHorizontalFlip(),\n",
        "    transforms.ToTensor(),\n",
        "    transforms.Normalize([0.485, 0.456, 0.406], [0.229, 0.224, 0.225])\n",
        "  ]),\n",
        "  'test': transforms.Compose([\n",
        "    transforms.Resize(256),\n",
        "    transforms.CenterCrop(224),\n",
        "    transforms.ToTensor(),\n",
        "    transforms.Normalize([0.485, 0.456, 0.406], [0.229, 0.224, 0.225])\n",
        "  ]),\n",
        "}\n",
        "\n",
        "# create the datasets\n",
        "datasets = {\n",
        "  'train': LegoDataset(\n",
        "    csv_file=os.path.join(root_dir, 'index.csv'), \n",
        "    root_dir=root_dir,\n",
        "    transform=data_transforms['train']\n",
        "  ),\n",
        "  'test': LegoDataset(\n",
        "    csv_file=os.path.join(root_dir, 'test.csv'), \n",
        "    root_dir=root_dir,\n",
        "    transform=data_transforms['test']\n",
        "  )\n",
        "}\n",
        "\n",
        "# create the dataloaders\n",
        "dataloaders = {\n",
        "  mode: DataLoader(datasets[mode], batch_size=4, shuffle=True, num_workers=4)\n",
        "  for mode in ['train', 'test']\n",
        "}"
      ],
      "execution_count": null,
      "outputs": []
    },
    {
      "cell_type": "markdown",
      "metadata": {
        "id": "RJP8yq7ow3Mz"
      },
      "source": [
        "# Preparing the Model"
      ]
    },
    {
      "cell_type": "markdown",
      "metadata": {
        "id": "oRdjvxUvGRDJ"
      },
      "source": [
        "We can download pretrained ResNet from PyTorch Hub:"
      ]
    },
    {
      "cell_type": "code",
      "metadata": {
        "id": "p7nTC1jLBNWi",
        "outputId": "cdf61348-573e-482c-83e3-75ac8b5766ea",
        "colab": {
          "base_uri": "https://localhost:8080/"
        }
      },
      "source": [
        "import torch\n",
        "\n",
        "model = torch.hub.load('pytorch/vision:v0.6.0', 'resnet18', pretrained=True)\n",
        "model"
      ],
      "execution_count": null,
      "outputs": [
        {
          "output_type": "stream",
          "text": [
            "Using cache found in /root/.cache/torch/hub/pytorch_vision_v0.6.0\n"
          ],
          "name": "stderr"
        },
        {
          "output_type": "execute_result",
          "data": {
            "text/plain": [
              "ResNet(\n",
              "  (conv1): Conv2d(3, 64, kernel_size=(7, 7), stride=(2, 2), padding=(3, 3), bias=False)\n",
              "  (bn1): BatchNorm2d(64, eps=1e-05, momentum=0.1, affine=True, track_running_stats=True)\n",
              "  (relu): ReLU(inplace=True)\n",
              "  (maxpool): MaxPool2d(kernel_size=3, stride=2, padding=1, dilation=1, ceil_mode=False)\n",
              "  (layer1): Sequential(\n",
              "    (0): BasicBlock(\n",
              "      (conv1): Conv2d(64, 64, kernel_size=(3, 3), stride=(1, 1), padding=(1, 1), bias=False)\n",
              "      (bn1): BatchNorm2d(64, eps=1e-05, momentum=0.1, affine=True, track_running_stats=True)\n",
              "      (relu): ReLU(inplace=True)\n",
              "      (conv2): Conv2d(64, 64, kernel_size=(3, 3), stride=(1, 1), padding=(1, 1), bias=False)\n",
              "      (bn2): BatchNorm2d(64, eps=1e-05, momentum=0.1, affine=True, track_running_stats=True)\n",
              "    )\n",
              "    (1): BasicBlock(\n",
              "      (conv1): Conv2d(64, 64, kernel_size=(3, 3), stride=(1, 1), padding=(1, 1), bias=False)\n",
              "      (bn1): BatchNorm2d(64, eps=1e-05, momentum=0.1, affine=True, track_running_stats=True)\n",
              "      (relu): ReLU(inplace=True)\n",
              "      (conv2): Conv2d(64, 64, kernel_size=(3, 3), stride=(1, 1), padding=(1, 1), bias=False)\n",
              "      (bn2): BatchNorm2d(64, eps=1e-05, momentum=0.1, affine=True, track_running_stats=True)\n",
              "    )\n",
              "  )\n",
              "  (layer2): Sequential(\n",
              "    (0): BasicBlock(\n",
              "      (conv1): Conv2d(64, 128, kernel_size=(3, 3), stride=(2, 2), padding=(1, 1), bias=False)\n",
              "      (bn1): BatchNorm2d(128, eps=1e-05, momentum=0.1, affine=True, track_running_stats=True)\n",
              "      (relu): ReLU(inplace=True)\n",
              "      (conv2): Conv2d(128, 128, kernel_size=(3, 3), stride=(1, 1), padding=(1, 1), bias=False)\n",
              "      (bn2): BatchNorm2d(128, eps=1e-05, momentum=0.1, affine=True, track_running_stats=True)\n",
              "      (downsample): Sequential(\n",
              "        (0): Conv2d(64, 128, kernel_size=(1, 1), stride=(2, 2), bias=False)\n",
              "        (1): BatchNorm2d(128, eps=1e-05, momentum=0.1, affine=True, track_running_stats=True)\n",
              "      )\n",
              "    )\n",
              "    (1): BasicBlock(\n",
              "      (conv1): Conv2d(128, 128, kernel_size=(3, 3), stride=(1, 1), padding=(1, 1), bias=False)\n",
              "      (bn1): BatchNorm2d(128, eps=1e-05, momentum=0.1, affine=True, track_running_stats=True)\n",
              "      (relu): ReLU(inplace=True)\n",
              "      (conv2): Conv2d(128, 128, kernel_size=(3, 3), stride=(1, 1), padding=(1, 1), bias=False)\n",
              "      (bn2): BatchNorm2d(128, eps=1e-05, momentum=0.1, affine=True, track_running_stats=True)\n",
              "    )\n",
              "  )\n",
              "  (layer3): Sequential(\n",
              "    (0): BasicBlock(\n",
              "      (conv1): Conv2d(128, 256, kernel_size=(3, 3), stride=(2, 2), padding=(1, 1), bias=False)\n",
              "      (bn1): BatchNorm2d(256, eps=1e-05, momentum=0.1, affine=True, track_running_stats=True)\n",
              "      (relu): ReLU(inplace=True)\n",
              "      (conv2): Conv2d(256, 256, kernel_size=(3, 3), stride=(1, 1), padding=(1, 1), bias=False)\n",
              "      (bn2): BatchNorm2d(256, eps=1e-05, momentum=0.1, affine=True, track_running_stats=True)\n",
              "      (downsample): Sequential(\n",
              "        (0): Conv2d(128, 256, kernel_size=(1, 1), stride=(2, 2), bias=False)\n",
              "        (1): BatchNorm2d(256, eps=1e-05, momentum=0.1, affine=True, track_running_stats=True)\n",
              "      )\n",
              "    )\n",
              "    (1): BasicBlock(\n",
              "      (conv1): Conv2d(256, 256, kernel_size=(3, 3), stride=(1, 1), padding=(1, 1), bias=False)\n",
              "      (bn1): BatchNorm2d(256, eps=1e-05, momentum=0.1, affine=True, track_running_stats=True)\n",
              "      (relu): ReLU(inplace=True)\n",
              "      (conv2): Conv2d(256, 256, kernel_size=(3, 3), stride=(1, 1), padding=(1, 1), bias=False)\n",
              "      (bn2): BatchNorm2d(256, eps=1e-05, momentum=0.1, affine=True, track_running_stats=True)\n",
              "    )\n",
              "  )\n",
              "  (layer4): Sequential(\n",
              "    (0): BasicBlock(\n",
              "      (conv1): Conv2d(256, 512, kernel_size=(3, 3), stride=(2, 2), padding=(1, 1), bias=False)\n",
              "      (bn1): BatchNorm2d(512, eps=1e-05, momentum=0.1, affine=True, track_running_stats=True)\n",
              "      (relu): ReLU(inplace=True)\n",
              "      (conv2): Conv2d(512, 512, kernel_size=(3, 3), stride=(1, 1), padding=(1, 1), bias=False)\n",
              "      (bn2): BatchNorm2d(512, eps=1e-05, momentum=0.1, affine=True, track_running_stats=True)\n",
              "      (downsample): Sequential(\n",
              "        (0): Conv2d(256, 512, kernel_size=(1, 1), stride=(2, 2), bias=False)\n",
              "        (1): BatchNorm2d(512, eps=1e-05, momentum=0.1, affine=True, track_running_stats=True)\n",
              "      )\n",
              "    )\n",
              "    (1): BasicBlock(\n",
              "      (conv1): Conv2d(512, 512, kernel_size=(3, 3), stride=(1, 1), padding=(1, 1), bias=False)\n",
              "      (bn1): BatchNorm2d(512, eps=1e-05, momentum=0.1, affine=True, track_running_stats=True)\n",
              "      (relu): ReLU(inplace=True)\n",
              "      (conv2): Conv2d(512, 512, kernel_size=(3, 3), stride=(1, 1), padding=(1, 1), bias=False)\n",
              "      (bn2): BatchNorm2d(512, eps=1e-05, momentum=0.1, affine=True, track_running_stats=True)\n",
              "    )\n",
              "  )\n",
              "  (avgpool): AdaptiveAvgPool2d(output_size=(1, 1))\n",
              "  (fc): Linear(in_features=512, out_features=1000, bias=True)\n",
              ")"
            ]
          },
          "metadata": {
            "tags": []
          },
          "execution_count": 20
        }
      ]
    },
    {
      "cell_type": "markdown",
      "metadata": {
        "id": "DXbStlkDGV5s"
      },
      "source": [
        "The output layer of the model (`fc`) is a `Linear` layer with 512 inputs and 1000 outputs (it was trained on ImageNet, which has 1000 classes). We want to replace it with a layer with 32 outputs. Additionally, we want to freeze all the layers except the last one."
      ]
    },
    {
      "cell_type": "code",
      "metadata": {
        "id": "pQ6n4n-HHiFo",
        "outputId": "b29730f5-fa37-4e5d-e212-77c362bc8a52",
        "colab": {
          "base_uri": "https://localhost:8080/"
        }
      },
      "source": [
        "# freeze all the layers\n",
        "for param in model.parameters():\n",
        "    param.requires_grad = False\n",
        "\n",
        "# replace the last layer\n",
        "import torch.nn as nn\n",
        "\n",
        "model.fc = nn.Linear(512, 32)\n",
        "model"
      ],
      "execution_count": null,
      "outputs": [
        {
          "output_type": "execute_result",
          "data": {
            "text/plain": [
              "ResNet(\n",
              "  (conv1): Conv2d(3, 64, kernel_size=(7, 7), stride=(2, 2), padding=(3, 3), bias=False)\n",
              "  (bn1): BatchNorm2d(64, eps=1e-05, momentum=0.1, affine=True, track_running_stats=True)\n",
              "  (relu): ReLU(inplace=True)\n",
              "  (maxpool): MaxPool2d(kernel_size=3, stride=2, padding=1, dilation=1, ceil_mode=False)\n",
              "  (layer1): Sequential(\n",
              "    (0): BasicBlock(\n",
              "      (conv1): Conv2d(64, 64, kernel_size=(3, 3), stride=(1, 1), padding=(1, 1), bias=False)\n",
              "      (bn1): BatchNorm2d(64, eps=1e-05, momentum=0.1, affine=True, track_running_stats=True)\n",
              "      (relu): ReLU(inplace=True)\n",
              "      (conv2): Conv2d(64, 64, kernel_size=(3, 3), stride=(1, 1), padding=(1, 1), bias=False)\n",
              "      (bn2): BatchNorm2d(64, eps=1e-05, momentum=0.1, affine=True, track_running_stats=True)\n",
              "    )\n",
              "    (1): BasicBlock(\n",
              "      (conv1): Conv2d(64, 64, kernel_size=(3, 3), stride=(1, 1), padding=(1, 1), bias=False)\n",
              "      (bn1): BatchNorm2d(64, eps=1e-05, momentum=0.1, affine=True, track_running_stats=True)\n",
              "      (relu): ReLU(inplace=True)\n",
              "      (conv2): Conv2d(64, 64, kernel_size=(3, 3), stride=(1, 1), padding=(1, 1), bias=False)\n",
              "      (bn2): BatchNorm2d(64, eps=1e-05, momentum=0.1, affine=True, track_running_stats=True)\n",
              "    )\n",
              "  )\n",
              "  (layer2): Sequential(\n",
              "    (0): BasicBlock(\n",
              "      (conv1): Conv2d(64, 128, kernel_size=(3, 3), stride=(2, 2), padding=(1, 1), bias=False)\n",
              "      (bn1): BatchNorm2d(128, eps=1e-05, momentum=0.1, affine=True, track_running_stats=True)\n",
              "      (relu): ReLU(inplace=True)\n",
              "      (conv2): Conv2d(128, 128, kernel_size=(3, 3), stride=(1, 1), padding=(1, 1), bias=False)\n",
              "      (bn2): BatchNorm2d(128, eps=1e-05, momentum=0.1, affine=True, track_running_stats=True)\n",
              "      (downsample): Sequential(\n",
              "        (0): Conv2d(64, 128, kernel_size=(1, 1), stride=(2, 2), bias=False)\n",
              "        (1): BatchNorm2d(128, eps=1e-05, momentum=0.1, affine=True, track_running_stats=True)\n",
              "      )\n",
              "    )\n",
              "    (1): BasicBlock(\n",
              "      (conv1): Conv2d(128, 128, kernel_size=(3, 3), stride=(1, 1), padding=(1, 1), bias=False)\n",
              "      (bn1): BatchNorm2d(128, eps=1e-05, momentum=0.1, affine=True, track_running_stats=True)\n",
              "      (relu): ReLU(inplace=True)\n",
              "      (conv2): Conv2d(128, 128, kernel_size=(3, 3), stride=(1, 1), padding=(1, 1), bias=False)\n",
              "      (bn2): BatchNorm2d(128, eps=1e-05, momentum=0.1, affine=True, track_running_stats=True)\n",
              "    )\n",
              "  )\n",
              "  (layer3): Sequential(\n",
              "    (0): BasicBlock(\n",
              "      (conv1): Conv2d(128, 256, kernel_size=(3, 3), stride=(2, 2), padding=(1, 1), bias=False)\n",
              "      (bn1): BatchNorm2d(256, eps=1e-05, momentum=0.1, affine=True, track_running_stats=True)\n",
              "      (relu): ReLU(inplace=True)\n",
              "      (conv2): Conv2d(256, 256, kernel_size=(3, 3), stride=(1, 1), padding=(1, 1), bias=False)\n",
              "      (bn2): BatchNorm2d(256, eps=1e-05, momentum=0.1, affine=True, track_running_stats=True)\n",
              "      (downsample): Sequential(\n",
              "        (0): Conv2d(128, 256, kernel_size=(1, 1), stride=(2, 2), bias=False)\n",
              "        (1): BatchNorm2d(256, eps=1e-05, momentum=0.1, affine=True, track_running_stats=True)\n",
              "      )\n",
              "    )\n",
              "    (1): BasicBlock(\n",
              "      (conv1): Conv2d(256, 256, kernel_size=(3, 3), stride=(1, 1), padding=(1, 1), bias=False)\n",
              "      (bn1): BatchNorm2d(256, eps=1e-05, momentum=0.1, affine=True, track_running_stats=True)\n",
              "      (relu): ReLU(inplace=True)\n",
              "      (conv2): Conv2d(256, 256, kernel_size=(3, 3), stride=(1, 1), padding=(1, 1), bias=False)\n",
              "      (bn2): BatchNorm2d(256, eps=1e-05, momentum=0.1, affine=True, track_running_stats=True)\n",
              "    )\n",
              "  )\n",
              "  (layer4): Sequential(\n",
              "    (0): BasicBlock(\n",
              "      (conv1): Conv2d(256, 512, kernel_size=(3, 3), stride=(2, 2), padding=(1, 1), bias=False)\n",
              "      (bn1): BatchNorm2d(512, eps=1e-05, momentum=0.1, affine=True, track_running_stats=True)\n",
              "      (relu): ReLU(inplace=True)\n",
              "      (conv2): Conv2d(512, 512, kernel_size=(3, 3), stride=(1, 1), padding=(1, 1), bias=False)\n",
              "      (bn2): BatchNorm2d(512, eps=1e-05, momentum=0.1, affine=True, track_running_stats=True)\n",
              "      (downsample): Sequential(\n",
              "        (0): Conv2d(256, 512, kernel_size=(1, 1), stride=(2, 2), bias=False)\n",
              "        (1): BatchNorm2d(512, eps=1e-05, momentum=0.1, affine=True, track_running_stats=True)\n",
              "      )\n",
              "    )\n",
              "    (1): BasicBlock(\n",
              "      (conv1): Conv2d(512, 512, kernel_size=(3, 3), stride=(1, 1), padding=(1, 1), bias=False)\n",
              "      (bn1): BatchNorm2d(512, eps=1e-05, momentum=0.1, affine=True, track_running_stats=True)\n",
              "      (relu): ReLU(inplace=True)\n",
              "      (conv2): Conv2d(512, 512, kernel_size=(3, 3), stride=(1, 1), padding=(1, 1), bias=False)\n",
              "      (bn2): BatchNorm2d(512, eps=1e-05, momentum=0.1, affine=True, track_running_stats=True)\n",
              "    )\n",
              "  )\n",
              "  (avgpool): AdaptiveAvgPool2d(output_size=(1, 1))\n",
              "  (fc): Linear(in_features=512, out_features=32, bias=True)\n",
              ")"
            ]
          },
          "metadata": {
            "tags": []
          },
          "execution_count": 21
        }
      ]
    },
    {
      "cell_type": "markdown",
      "metadata": {
        "id": "2c-dm7ijHtQn"
      },
      "source": [
        "The output layer now has 32 outputs, as desired.\n",
        "\n",
        "We also want to move the model to the GPU so it trains faster. (Don't forget to enable GPU runtime!)"
      ]
    },
    {
      "cell_type": "code",
      "metadata": {
        "id": "PIbp_R8bIQIf",
        "outputId": "f967cc36-957c-460f-e88c-9fd92a53b969",
        "colab": {
          "base_uri": "https://localhost:8080/"
        }
      },
      "source": [
        "device = torch.device(\"cuda:0\" if torch.cuda.is_available() else \"cpu\")\n",
        "print(\"device:\", device)\n",
        "model = model.to(device)"
      ],
      "execution_count": null,
      "outputs": [
        {
          "output_type": "stream",
          "text": [
            "device: cuda:0\n"
          ],
          "name": "stdout"
        }
      ]
    },
    {
      "cell_type": "markdown",
      "metadata": {
        "id": "3C4ORQrTw53x"
      },
      "source": [
        "# Training"
      ]
    },
    {
      "cell_type": "markdown",
      "metadata": {
        "id": "pFXGPIK7KYOl"
      },
      "source": [
        "Define some parameters for training:"
      ]
    },
    {
      "cell_type": "code",
      "metadata": {
        "id": "s0d1d_2wKcsA"
      },
      "source": [
        "LEARNING_RATE = 0.001  # how much the model's weights are changed in each training iteration\n",
        "EPOCHS = 40            # the number of times to train on the full dataset"
      ],
      "execution_count": null,
      "outputs": []
    },
    {
      "cell_type": "markdown",
      "metadata": {
        "id": "A5VlzGvPK7uw"
      },
      "source": [
        "Define a loss function. (This calculates how correct or incorrect the model's predictions were.)"
      ]
    },
    {
      "cell_type": "code",
      "metadata": {
        "id": "VD7wjJFkK_KB"
      },
      "source": [
        "criterion = nn.CrossEntropyLoss()"
      ],
      "execution_count": null,
      "outputs": []
    },
    {
      "cell_type": "markdown",
      "metadata": {
        "id": "x4vvOw0jLP_S"
      },
      "source": [
        "Define an optimization algorithm. (This updates the weights in the model to decrease the loss from the loss function.)"
      ]
    },
    {
      "cell_type": "code",
      "metadata": {
        "id": "c5dAD_UlLT7G"
      },
      "source": [
        "import torch.optim as optim\n",
        "\n",
        "optimizer = optim.Adam(model.parameters(), lr=LEARNING_RATE)"
      ],
      "execution_count": null,
      "outputs": []
    },
    {
      "cell_type": "markdown",
      "metadata": {
        "id": "UCg8RVUCMFAn"
      },
      "source": [
        "Train the model."
      ]
    },
    {
      "cell_type": "code",
      "metadata": {
        "id": "ReAxk-5dMIMz",
        "outputId": "26afb4f8-13b3-4622-c424-4b333f5f7efb",
        "colab": {
          "base_uri": "https://localhost:8080/"
        }
      },
      "source": [
        "import time\n",
        "\n",
        "start = time.time()\n",
        "\n",
        "model.train()  # set the model to training mode (don't ignore batchnorm layers)\n",
        "torch.set_grad_enabled(True)\n",
        "\n",
        "losses = []  # keep track of loss to see improvement\n",
        "\n",
        "for epoch in range(EPOCHS):\n",
        "\n",
        "  running_loss = 0.0\n",
        "\n",
        "  for inputs, labels in dataloaders['train']:\n",
        "    # since the model is on the GPU, the training data moves there as well\n",
        "    inputs = inputs.to(device)\n",
        "    labels = labels.to(device)\n",
        "\n",
        "    optimizer.zero_grad()  # zero out previous weight gradients\n",
        "    outputs = model(inputs)  # predict classes for the training data\n",
        "    loss = criterion(outputs, labels)  # check how incorrect the model is\n",
        "    loss.backward()  # calculate the gradients\n",
        "    optimizer.step()  # update the weights\n",
        "\n",
        "    running_loss += loss.item() * inputs.size(0)\n",
        "\n",
        "  losses.append(running_loss)\n",
        "  running_loss = 0.0\n",
        "\n",
        "\n",
        "duration = time.time() - start\n",
        "print('Time spent training: {:.0f}m {:.0f}s'.format(duration // 60, duration % 60))"
      ],
      "execution_count": null,
      "outputs": [
        {
          "output_type": "stream",
          "text": [
            "Time spent training: 1m 52s\n"
          ],
          "name": "stdout"
        }
      ]
    },
    {
      "cell_type": "markdown",
      "metadata": {
        "id": "ovUDtvrQOWxp"
      },
      "source": [
        "Check if the loss decreased."
      ]
    },
    {
      "cell_type": "code",
      "metadata": {
        "id": "WY0bcb4hOZpy",
        "outputId": "585cfca0-aa7b-4a23-d05f-5fee47018b3d",
        "colab": {
          "base_uri": "https://localhost:8080/",
          "height": 280
        }
      },
      "source": [
        "plt.plot(losses)\n",
        "plt.xlabel('epoch')\n",
        "plt.ylabel('loss')\n",
        "plt.show()"
      ],
      "execution_count": null,
      "outputs": [
        {
          "output_type": "display_data",
          "data": {
            "image/png": "[encoded data removed]",
            "text/plain": [
              "<Figure size 432x288 with 1 Axes>"
            ]
          },
          "metadata": {
            "tags": [],
            "needs_background": "light"
          }
        }
      ]
    },
    {
      "cell_type": "markdown",
      "metadata": {
        "id": "CMlkXBWFw-Yt"
      },
      "source": [
        "# Did it work?"
      ]
    },
    {
      "cell_type": "markdown",
      "metadata": {
        "id": "qP9hh-T8R0nm"
      },
      "source": [
        "Choose a testing image."
      ]
    },
    {
      "cell_type": "code",
      "metadata": {
        "id": "kpAl35vK1DDV",
        "outputId": "8eead736-f500-4a6a-9705-b00bae373297",
        "colab": {
          "base_uri": "https://localhost:8080/",
          "height": 286
        }
      },
      "source": [
        "sample_index = 9  # try a few!\n",
        "\n",
        "sample_test = data_df_test.loc[sample_index]\n",
        "sample_test_img = Image.open(os.path.join(root_dir, sample_test.path))\n",
        "plt.imshow(sample_test_img)\n",
        "print(\"True name: {}\".format(get_figure_name(sample_test.class_id)))"
      ],
      "execution_count": null,
      "outputs": [
        {
          "output_type": "stream",
          "text": [
            "True name: AUNT MAY\n"
          ],
          "name": "stdout"
        },
        {
          "output_type": "display_data",
          "data": {
            "image/png": "[encoded data removed]",
            "text/plain": [
              "<Figure size 432x288 with 1 Axes>"
            ]
          },
          "metadata": {
            "tags": [],
            "needs_background": "light"
          }
        }
      ]
    },
    {
      "cell_type": "markdown",
      "metadata": {
        "id": "3mR96exgUaue"
      },
      "source": [
        "Predict the figure's name using the model."
      ]
    },
    {
      "cell_type": "code",
      "metadata": {
        "id": "L9YoMBy7Qh6J",
        "outputId": "6b639364-5e4b-4f83-c04e-3c51b72473ec",
        "colab": {
          "base_uri": "https://localhost:8080/"
        }
      },
      "source": [
        "img1, label1 = datasets['test'][sample_index]\n",
        "\n",
        "model.eval()\n",
        "with torch.no_grad():\n",
        "  output = model(img1.unsqueeze(0).to(device))\n",
        "\n",
        "predicted_class = torch.argmax(output[0]).cpu().item() + 1  # outputs from the model are zero indexed\n",
        "\n",
        "print(\"Predicted name: {}\".format(get_figure_name(predicted_class)))"
      ],
      "execution_count": null,
      "outputs": [
        {
          "output_type": "stream",
          "text": [
            "Predicted name: AUNT MAY\n"
          ],
          "name": "stdout"
        }
      ]
    },
    {
      "cell_type": "markdown",
      "metadata": {
        "id": "G8ZlrSPoTdHC"
      },
      "source": [
        "How accurate is the model?"
      ]
    },
    {
      "cell_type": "code",
      "metadata": {
        "id": "-GQBYT6uS3AS",
        "outputId": "13298cca-30fd-4072-a81b-dc1005c4c861",
        "colab": {
          "base_uri": "https://localhost:8080/"
        }
      },
      "source": [
        "total_correct = 0\n",
        "total_examples = 0\n",
        "\n",
        "for inputs, labels in dataloaders['test']:\n",
        "  inputs = inputs.to(device)\n",
        "  labels = labels.to(device)\n",
        "\n",
        "  outputs = model(inputs)\n",
        "  _, preds = torch.max(outputs, 1)\n",
        "\n",
        "  total_correct += torch.sum(preds == labels.data)\n",
        "  total_examples += len(preds)\n",
        "\n",
        "print(\"Accuracy: {:.1f}%\".format(total_correct/total_examples*100))"
      ],
      "execution_count": null,
      "outputs": [
        {
          "output_type": "stream",
          "text": [
            "Accuracy: 87.1%\n"
          ],
          "name": "stdout"
        }
      ]
    },
    {
      "cell_type": "code",
      "metadata": {
        "id": "TjRsFKLYV6bO"
      },
      "source": [
        ""
      ],
      "execution_count": null,
      "outputs": []
    }
  ]
}